{
 "cells": [
  {
   "cell_type": "code",
   "execution_count": 2,
   "metadata": {},
   "outputs": [],
   "source": [
    "import pandas as pd\n",
    "import json"
   ]
  },
  {
   "cell_type": "code",
   "execution_count": 3,
   "metadata": {},
   "outputs": [],
   "source": [
    "bwd_test_log = \"logs/parsed_test_bwd.log\"\n",
    "fwd_test_log = \"logs/parsed_test_fwd.log\""
   ]
  },
  {
   "cell_type": "code",
   "execution_count": 4,
   "metadata": {},
   "outputs": [],
   "source": [
    "raw_bwd_logs = [json.loads(line.strip()) for line in open(bwd_test_log).readlines()]"
   ]
  },
  {
   "cell_type": "code",
   "execution_count": 5,
   "metadata": {},
   "outputs": [],
   "source": [
    "df = pd.DataFrame(raw_bwd_logs).drop(\"is_interpreter\", axis=1)"
   ]
  },
  {
   "cell_type": "code",
   "execution_count": 60,
   "metadata": {},
   "outputs": [],
   "source": [
    "group_keys = [k for k in df.columns if \"DEBUG\" not in k]\n",
    "run_config_keys = [k for k in group_keys if not any(x in k for x in [\"passed\", \"diff\"])]\n",
    "bwd_key_pats = [\"dx\", \"dB\", \"dC\", \"dh\"]\n",
    "fwd_key_pat = [\"return_\", \"y2_\", \"y_\", \"T_\", \"T_hat\"]\n",
    "common_keys = [k for k in run_config_keys if not any(x in k for x in bwd_key_pats + fwd_key_pat)]\n",
    "bwd_group_keys = [k for k in group_keys if not any(x in k for x in fwd_key_pat)]\n",
    "fwd_group_keys = [k for k in group_keys if not any(x in k for x in bwd_key_pats)] "
   ]
  },
  {
   "cell_type": "code",
   "execution_count": 61,
   "metadata": {},
   "outputs": [],
   "source": [
    "#Bwd tests sliced by TMA\n",
    "bwd_tests = df[bwd_group_keys]\n",
    "bwd_tests_TMA = bwd_tests[bwd_tests.USE_TMA]\n",
    "bwd_tests_NO_TMA = bwd_tests[~bwd_tests.USE_TMA]"
   ]
  },
  {
   "cell_type": "code",
   "execution_count": 63,
   "metadata": {},
   "outputs": [],
   "source": [
    "# These are fwd pass in e2e fwd / bwd tests\n",
    "fwd_tests = df[df.y_diff.notna()][fwd_group_keys]\n",
    "fwd_tests_TMA = fwd_tests[fwd_tests.USE_TMA]\n",
    "fwd_tests_NO_TMA = fwd_tests[~fwd_tests.USE_TMA]"
   ]
  },
  {
   "cell_type": "code",
   "execution_count": 70,
   "metadata": {},
   "outputs": [],
   "source": [
    "# Forward failures\n",
    "y_failures = fwd_tests[fwd_tests.y_passed == False].sort_values(\"y_diff\", ascending=False)[common_keys + [\"y_diff\"]]\n",
    "\n",
    "# Backward failures\n",
    "dx_failures = bwd_tests[bwd_tests.dx_passed == False].sort_values(\"dx_diff\", ascending=False)[common_keys + [\"dx_diff\"]]\n",
    "dB_failures = bwd_tests[bwd_tests.dB_passed == False].sort_values(\"dB_diff\", ascending=False)[common_keys + [\"dB_diff\"]]\n",
    "dC_failures = bwd_tests[bwd_tests.dC_passed == False].sort_values(\"dC_diff\", ascending=False)[common_keys + [\"dC_diff\"]]\n",
    "dh_failures = bwd_tests[bwd_tests.dh_passed == False].sort_values(\"dh_diff\", ascending=False)[common_keys + [\"dh_diff\"]]"
   ]
  },
  {
   "cell_type": "code",
   "execution_count": 75,
   "metadata": {},
   "outputs": [],
   "source": [
    "assert sum(y_failures.dtype == \"float32\") == 0\n",
    "assert sum(dx_failures.dtype == \"float32\") == 0\n",
    "assert sum(dB_failures.dtype == \"float32\") == 0\n",
    "assert sum(dC_failures.dtype == \"float32\") == 0\n",
    "assert sum(dh_failures.dtype == \"float32\") == 0"
   ]
  },
  {
   "cell_type": "code",
   "execution_count": null,
   "metadata": {},
   "outputs": [],
   "source": []
  }
 ],
 "metadata": {
  "kernelspec": {
   "display_name": "base",
   "language": "python",
   "name": "python3"
  },
  "language_info": {
   "codemirror_mode": {
    "name": "ipython",
    "version": 3
   },
   "file_extension": ".py",
   "mimetype": "text/x-python",
   "name": "python",
   "nbconvert_exporter": "python",
   "pygments_lexer": "ipython3",
   "version": "3.11.4"
  }
 },
 "nbformat": 4,
 "nbformat_minor": 2
}
