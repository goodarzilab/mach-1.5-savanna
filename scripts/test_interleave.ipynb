{
 "cells": [
  {
   "cell_type": "code",
   "execution_count": 5,
   "metadata": {},
   "outputs": [],
   "source": [
    "import torch\n",
    "\n",
    "bs = 1\n",
    "seq_len = 8192\n",
    "d = 4096\n",
    "D = 3 * d\n",
    "mp_size = 1\n",
    "num_groups = 256\n",
    "\n",
    "groups_per_tp_rank = num_groups // mp_size\n",
    "x = torch.randn(bs, D, seq_len)\n"
   ]
  },
  {
   "cell_type": "code",
   "execution_count": 6,
   "metadata": {},
   "outputs": [],
   "source": [
    "def ref_interleave(x):\n",
    "    x1 = x[:,0::3,:]\n",
    "    x2 = x[:,1::3,:]\n",
    "    v  = x[:,2::3,:]\n",
    "    return x1, x2, v"
   ]
  },
  {
   "cell_type": "code",
   "execution_count": 7,
   "metadata": {},
   "outputs": [],
   "source": [
    "x1_ref, x2_ref, v_ref = ref_interleave(x)"
   ]
  },
  {
   "cell_type": "code",
   "execution_count": 8,
   "metadata": {},
   "outputs": [
    {
     "data": {
      "text/plain": [
       "(torch.Size([1, 4096, 8192]),\n",
       " torch.Size([1, 4096, 8192]),\n",
       " torch.Size([1, 4096, 8192]))"
      ]
     },
     "execution_count": 8,
     "metadata": {},
     "output_type": "execute_result"
    }
   ],
   "source": [
    "x1_ref.shape, x2_ref.shape, v_ref.shape"
   ]
  },
  {
   "cell_type": "code",
   "execution_count": 9,
   "metadata": {},
   "outputs": [
    {
     "data": {
      "text/plain": [
       "torch.Size([1, 3, 4096, 8192])"
      ]
     },
     "execution_count": 9,
     "metadata": {},
     "output_type": "execute_result"
    }
   ],
   "source": [
    "x2 = x.reshape(bs, D // 3, 3, seq_len)\n",
    "x3 = x2.permute(0, 2, 1, 3)\n",
    "x3.shape"
   ]
  },
  {
   "cell_type": "code",
   "execution_count": 12,
   "metadata": {},
   "outputs": [
    {
     "data": {
      "text/plain": [
       "(torch.Size([1, 4096, 8192]),\n",
       " torch.Size([1, 4096, 8192]),\n",
       " torch.Size([1, 4096, 8192]))"
      ]
     },
     "execution_count": 12,
     "metadata": {},
     "output_type": "execute_result"
    }
   ],
   "source": [
    "x4 = x3.unbind(dim=1)\n",
    "x1, x2, v = x4\n",
    "x1.shape, x2.shape, v.shape"
   ]
  },
  {
   "cell_type": "code",
   "execution_count": 13,
   "metadata": {},
   "outputs": [],
   "source": [
    "for ref, test in zip([x1_ref, x2_ref, v_ref], [x1, x2, v]):\n",
    "    assert torch.allclose(ref, test)\n"
   ]
  },
  {
   "cell_type": "code",
   "execution_count": null,
   "metadata": {},
   "outputs": [],
   "source": []
  }
 ],
 "metadata": {
  "kernelspec": {
   "display_name": "base",
   "language": "python",
   "name": "python3"
  },
  "language_info": {
   "codemirror_mode": {
    "name": "ipython",
    "version": 3
   },
   "file_extension": ".py",
   "mimetype": "text/x-python",
   "name": "python",
   "nbconvert_exporter": "python",
   "pygments_lexer": "ipython3",
   "version": "3.12.7"
  }
 },
 "nbformat": 4,
 "nbformat_minor": 2
}
