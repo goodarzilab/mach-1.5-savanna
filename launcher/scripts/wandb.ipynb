{
 "cells": [
  {
   "cell_type": "code",
   "execution_count": 1,
   "metadata": {},
   "outputs": [],
   "source": [
    "# %%\n",
    "from argparse import ArgumentParser\n",
    "from datetime import datetime, timedelta\n",
    "from pathlib import Path\n",
    "\n",
    "import pandas as pd\n",
    "import pytz\n",
    "\n",
    "import wandb\n",
    "\n",
    "from wandb_lib import download_run_data, summarize_run_data, get_runs, DEFAULT_COL_ORDER\n",
    "\n",
    "from wandb.apis.public.runs import Run"
   ]
  },
  {
   "cell_type": "code",
   "execution_count": 2,
   "metadata": {},
   "outputs": [
    {
     "name": "stdout",
     "output_type": "stream",
     "text": [
      "Namespace(entity='hyena', project='7b-context-extension', run=['v3'], num_samples=None, most_recent=20, output_dir=PosixPath('output'))\n"
     ]
    }
   ],
   "source": [
    "ENTITY = \"hyena\"\n",
    "PROJECT = \"7b-context-extension\"\n",
    "RUNS = [\"v3\"]\n",
    "\n",
    "args = ArgumentParser()\n",
    "args.add_argument(\"--entity\", type=str, default=ENTITY)\n",
    "args.add_argument(\"--project\", type=str, default=PROJECT)\n",
    "args.add_argument(\"--run\", type=str, default=RUNS)\n",
    "args.add_argument(\"--num_samples\", type=int, default=None)\n",
    "args.add_argument(\"--most_recent\", type=int, default=20)\n",
    "args.add_argument(\"--output_dir\", type=Path, default=Path(\"output\"))\n",
    "args = args.parse_args(\"\")\n",
    "\n",
    "print(args)"
   ]
  },
  {
   "cell_type": "code",
   "execution_count": 3,
   "metadata": {},
   "outputs": [
    {
     "name": "stdout",
     "output_type": "stream",
     "text": [
      "Runs: 11\n"
     ]
    }
   ],
   "source": [
    "runs: list[Run] = get_runs(entity=args.entity, project=args.project, run_pats=args.run)\n",
    "print(f\"Runs: {len(runs)}\")"
   ]
  },
  {
   "cell_type": "code",
   "execution_count": 4,
   "metadata": {},
   "outputs": [
    {
     "name": "stderr",
     "output_type": "stream",
     "text": [
      "  9%|▉         | 1/11 [00:02<00:23,  2.30s/it]"
     ]
    },
    {
     "name": "stdout",
     "output_type": "stream",
     "text": [
      "Error processing run 0 7b-context-extension/n32-v3-evo1-32K/20241122013131: 'validation/lm_loss'\n"
     ]
    },
    {
     "name": "stderr",
     "output_type": "stream",
     "text": [
      " 18%|█▊        | 2/11 [00:03<00:16,  1.78s/it]"
     ]
    },
    {
     "name": "stdout",
     "output_type": "stream",
     "text": [
      "Error processing run 1 7b-context-extension/n4-v3-evo1-32K/20241122030853: 'validation/lm_loss'\n"
     ]
    },
    {
     "name": "stderr",
     "output_type": "stream",
     "text": [
      " 27%|██▋       | 3/11 [00:05<00:14,  1.78s/it]"
     ]
    },
    {
     "name": "stdout",
     "output_type": "stream",
     "text": [
      "Error processing run 2 7b-context-extension/n4-v3-evo1-32K/20241122032414: 'validation/lm_loss'\n"
     ]
    },
    {
     "name": "stderr",
     "output_type": "stream",
     "text": [
      " 36%|███▋      | 4/11 [00:12<00:25,  3.71s/it]"
     ]
    },
    {
     "name": "stdout",
     "output_type": "stream",
     "text": [
      "Error processing run 3 7b-context-extension/n32-v3-hybrid-log_evo1-32K/20241122115916: 'validation/lm_loss'\n"
     ]
    },
    {
     "name": "stderr",
     "output_type": "stream",
     "text": [
      " 45%|████▌     | 5/11 [00:18<00:27,  4.54s/it]"
     ]
    },
    {
     "name": "stdout",
     "output_type": "stream",
     "text": [
      "Error processing run 4 7b-context-extension/n32-v3-hybrid-log_evo1-32K/20241123064250: 'validation/lm_loss'\n"
     ]
    },
    {
     "name": "stderr",
     "output_type": "stream",
     "text": [
      " 55%|█████▍    | 6/11 [00:19<00:17,  3.54s/it]"
     ]
    },
    {
     "name": "stdout",
     "output_type": "stream",
     "text": [
      "Error processing run 5 7b-context-extension/n4-v3-hybrid-log_evo1-64K/20241123085905: 'validation/lm_loss'\n"
     ]
    },
    {
     "name": "stderr",
     "output_type": "stream",
     "text": [
      " 64%|██████▎   | 7/11 [00:21<00:11,  2.97s/it]"
     ]
    },
    {
     "name": "stdout",
     "output_type": "stream",
     "text": [
      "Error processing run 6 7b-context-extension/n4-v3-hybrid-log_evo1-64K/20241123090834: 'validation/lm_loss'\n"
     ]
    },
    {
     "name": "stderr",
     "output_type": "stream",
     "text": [
      " 73%|███████▎  | 8/11 [00:27<00:12,  4.00s/it]"
     ]
    },
    {
     "name": "stdout",
     "output_type": "stream",
     "text": [
      "Error processing run 7 7b-context-extension/n32-v3-hybrid-log_evo1-64K/20241123140653: 'validation/lm_loss'\n"
     ]
    },
    {
     "name": "stderr",
     "output_type": "stream",
     "text": [
      " 82%|████████▏ | 9/11 [00:33<00:09,  4.66s/it]"
     ]
    },
    {
     "name": "stdout",
     "output_type": "stream",
     "text": [
      "Error processing run 8 7b-context-extension/n32-v3-hybrid-log_evo1-64K/20241124023100: 'validation/lm_loss'\n"
     ]
    },
    {
     "name": "stderr",
     "output_type": "stream",
     "text": [
      " 91%|█████████ | 10/11 [00:35<00:03,  3.70s/it]"
     ]
    },
    {
     "name": "stdout",
     "output_type": "stream",
     "text": [
      "Error processing run 9 7b-context-extension/n4-v3-hybrid-log_evo1-128K/20241124044556: 'validation/lm_loss'\n"
     ]
    },
    {
     "name": "stderr",
     "output_type": "stream",
     "text": [
      "100%|██████████| 11/11 [00:41<00:00,  3.80s/it]"
     ]
    },
    {
     "name": "stdout",
     "output_type": "stream",
     "text": [
      "Error processing run 10 7b-context-extension/n32-v3-hybrid-log_evo1-128K/20241124050715: 'validation/lm_loss'\n"
     ]
    },
    {
     "name": "stderr",
     "output_type": "stream",
     "text": [
      "\n"
     ]
    }
   ],
   "source": [
    "# runs = runs[-args.most_recent :]\n",
    "df = download_run_data(runs, num_samples=args.num_samples)\n",
    "\n",
    "# df = df[DEFAULT_COL_ORDER + [\"metadata\", \"history\"]]"
   ]
  },
  {
   "cell_type": "code",
   "execution_count": 7,
   "metadata": {},
   "outputs": [
    {
     "data": {
      "text/plain": [
       "Index(['start', 'end', 'name', 'rawconfig', 'metadata', 'history', 'summary',\n",
       "       'start_step', 'end_step', 'duration', 'avg_throughput',\n",
       "       'avg_iteration_time', 'start_train_loss', 'end_train_loss',\n",
       "       'start_val_loss', 'end_val_loss'],\n",
       "      dtype='object')"
      ]
     },
     "execution_count": 7,
     "metadata": {},
     "output_type": "execute_result"
    }
   ],
   "source": []
  },
  {
   "cell_type": "code",
   "execution_count": 8,
   "metadata": {},
   "outputs": [],
   "source": [
    "summary_df = df[[\"name\"] + DEFAULT_COL_ORDER]"
   ]
  },
  {
   "cell_type": "code",
   "execution_count": 9,
   "metadata": {},
   "outputs": [],
   "source": [
    "output_dir = Path(\"../wandb_runs\")\n",
    "dt = datetime.now().strftime(\"%Y%m%d_%H\")\n",
    "output_dir = output_dir / dt\n",
    "if not output_dir.exists():\n",
    "    output_dir.mkdir(parents=True, exist_ok=True)\n",
    "\n",
    "summary_df.to_csv(output_dir / \"v3_context_ext_summary.csv\")\n",
    "df.to_csv(output_dir / \"v3_context_ext_full.csv\")"
   ]
  },
  {
   "cell_type": "code",
   "execution_count": 5,
   "metadata": {},
   "outputs": [
    {
     "data": {
      "text/plain": [
       "Index(['start', 'end', 'name', 'rawconfig', 'metadata', 'history', 'summary'], dtype='object')"
      ]
     },
     "execution_count": 5,
     "metadata": {},
     "output_type": "execute_result"
    }
   ],
   "source": [
    "df.columns"
   ]
  },
  {
   "cell_type": "code",
   "execution_count": 12,
   "metadata": {},
   "outputs": [
    {
     "data": {
      "text/html": [
       "<div>\n",
       "<style scoped>\n",
       "    .dataframe tbody tr th:only-of-type {\n",
       "        vertical-align: middle;\n",
       "    }\n",
       "\n",
       "    .dataframe tbody tr th {\n",
       "        vertical-align: top;\n",
       "    }\n",
       "\n",
       "    .dataframe thead th {\n",
       "        text-align: right;\n",
       "    }\n",
       "</style>\n",
       "<table border=\"1\" class=\"dataframe\">\n",
       "  <thead>\n",
       "    <tr style=\"text-align: right;\">\n",
       "      <th></th>\n",
       "      <th>name</th>\n",
       "      <th>start</th>\n",
       "      <th>end</th>\n",
       "      <th>duration</th>\n",
       "      <th>start_step</th>\n",
       "      <th>end_step</th>\n",
       "      <th>avg_throughput</th>\n",
       "      <th>avg_iteration_time</th>\n",
       "      <th>start_train_loss</th>\n",
       "      <th>end_train_loss</th>\n",
       "      <th>start_val_loss</th>\n",
       "      <th>end_val_loss</th>\n",
       "    </tr>\n",
       "  </thead>\n",
       "  <tbody>\n",
       "    <tr>\n",
       "      <th>https://wandb.ai/hyena/7b-context-extension/runs/20241109194350</th>\n",
       "      <td>n32-log-32K</td>\n",
       "      <td>2024-11-09 19:43:51</td>\n",
       "      <td>2024-11-10 02:58:02</td>\n",
       "      <td>7.236389</td>\n",
       "      <td>500</td>\n",
       "      <td>12500</td>\n",
       "      <td>8163.327501</td>\n",
       "      <td>2.007026</td>\n",
       "      <td>1.042655</td>\n",
       "      <td>0.995088</td>\n",
       "      <td>1.038076</td>\n",
       "      <td>1.024392</td>\n",
       "    </tr>\n",
       "    <tr>\n",
       "      <th>https://wandb.ai/hyena/7b-context-extension/runs/20241110010914</th>\n",
       "      <td>n32-linear-32K</td>\n",
       "      <td>2024-11-10 01:09:15</td>\n",
       "      <td>2024-11-10 08:22:07</td>\n",
       "      <td>7.214444</td>\n",
       "      <td>500</td>\n",
       "      <td>12500</td>\n",
       "      <td>8189.138074</td>\n",
       "      <td>2.000701</td>\n",
       "      <td>1.042226</td>\n",
       "      <td>0.995069</td>\n",
       "      <td>1.037648</td>\n",
       "      <td>1.024372</td>\n",
       "    </tr>\n",
       "    <tr>\n",
       "      <th>https://wandb.ai/hyena/7b-context-extension/runs/20241110022836</th>\n",
       "      <td>n32-evo1-32K</td>\n",
       "      <td>2024-11-10 02:28:37</td>\n",
       "      <td>2024-11-10 09:41:01</td>\n",
       "      <td>7.206667</td>\n",
       "      <td>500</td>\n",
       "      <td>12500</td>\n",
       "      <td>8191.127076</td>\n",
       "      <td>2.000215</td>\n",
       "      <td>1.03195</td>\n",
       "      <td>0.994168</td>\n",
       "      <td>1.026375</td>\n",
       "      <td>1.023378</td>\n",
       "    </tr>\n",
       "    <tr>\n",
       "      <th>https://wandb.ai/hyena/7b-context-extension/runs/20241110074838</th>\n",
       "      <td>n32-5x-32K</td>\n",
       "      <td>2024-11-10 07:48:39</td>\n",
       "      <td>2024-11-10 15:03:32</td>\n",
       "      <td>7.248056</td>\n",
       "      <td>500</td>\n",
       "      <td>12500</td>\n",
       "      <td>8145.051921</td>\n",
       "      <td>2.011529</td>\n",
       "      <td>1.04202</td>\n",
       "      <td>0.995099</td>\n",
       "      <td>1.03741</td>\n",
       "      <td>1.02435</td>\n",
       "    </tr>\n",
       "    <tr>\n",
       "      <th>https://wandb.ai/hyena/7b-context-extension/runs/20241110201101</th>\n",
       "      <td>n32-evo1-64K</td>\n",
       "      <td>2024-11-10 20:11:02</td>\n",
       "      <td>2024-11-11 03:58:47</td>\n",
       "      <td>7.795833</td>\n",
       "      <td>500</td>\n",
       "      <td>6000</td>\n",
       "      <td>3577.467166</td>\n",
       "      <td>4.584136</td>\n",
       "      <td>1.027063</td>\n",
       "      <td>1.03318</td>\n",
       "      <td>1.023338</td>\n",
       "      <td>1.022352</td>\n",
       "    </tr>\n",
       "    <tr>\n",
       "      <th>https://wandb.ai/hyena/7b-context-extension/runs/20241111001940</th>\n",
       "      <td>n32-linear-64K</td>\n",
       "      <td>2024-11-11 00:19:40</td>\n",
       "      <td>2024-11-11 04:16:31</td>\n",
       "      <td>3.9475</td>\n",
       "      <td>500</td>\n",
       "      <td>3000</td>\n",
       "      <td>3807.921742</td>\n",
       "      <td>4.307533</td>\n",
       "      <td>1.026377</td>\n",
       "      <td>1.039707</td>\n",
       "      <td>1.022771</td>\n",
       "      <td>1.024099</td>\n",
       "    </tr>\n",
       "    <tr>\n",
       "      <th>https://wandb.ai/hyena/7b-context-extension/runs/20241111040407</th>\n",
       "      <td>n32-evo1-64K</td>\n",
       "      <td>2024-11-11 04:04:08</td>\n",
       "      <td>2024-11-11 09:00:12</td>\n",
       "      <td>4.934444</td>\n",
       "      <td>6500</td>\n",
       "      <td>12500</td>\n",
       "      <td>6166.987769</td>\n",
       "      <td>2.656727</td>\n",
       "      <td>1.027116</td>\n",
       "      <td>1.016252</td>\n",
       "      <td>1.025745</td>\n",
       "      <td>1.01657</td>\n",
       "    </tr>\n",
       "    <tr>\n",
       "      <th>https://wandb.ai/hyena/7b-context-extension/runs/20241111042247</th>\n",
       "      <td>n32-linear-64K</td>\n",
       "      <td>2024-11-11 04:22:47</td>\n",
       "      <td>2024-11-11 11:34:58</td>\n",
       "      <td>7.203056</td>\n",
       "      <td>3500</td>\n",
       "      <td>12500</td>\n",
       "      <td>6158.642207</td>\n",
       "      <td>2.660328</td>\n",
       "      <td>1.026265</td>\n",
       "      <td>1.016054</td>\n",
       "      <td>1.021845</td>\n",
       "      <td>1.016373</td>\n",
       "    </tr>\n",
       "    <tr>\n",
       "      <th>https://wandb.ai/hyena/7b-context-extension/runs/20241111100159</th>\n",
       "      <td>n32-evo1-128K</td>\n",
       "      <td>2024-11-11 10:02:00</td>\n",
       "      <td>2024-11-11 19:53:40</td>\n",
       "      <td>9.861111</td>\n",
       "      <td>500</td>\n",
       "      <td>12500</td>\n",
       "      <td>5918.955686</td>\n",
       "      <td>2.768057</td>\n",
       "      <td>1.014796</td>\n",
       "      <td>1.038908</td>\n",
       "      <td>1.023778</td>\n",
       "      <td>1.010906</td>\n",
       "    </tr>\n",
       "    <tr>\n",
       "      <th>https://wandb.ai/hyena/7b-context-extension/runs/20241111115759</th>\n",
       "      <td>n32-linear-128K</td>\n",
       "      <td>2024-11-11 11:58:00</td>\n",
       "      <td>2024-11-11 21:48:39</td>\n",
       "      <td>9.844167</td>\n",
       "      <td>500</td>\n",
       "      <td>12500</td>\n",
       "      <td>5918.060842</td>\n",
       "      <td>2.768477</td>\n",
       "      <td>1.015827</td>\n",
       "      <td>1.039378</td>\n",
       "      <td>1.024592</td>\n",
       "      <td>1.011912</td>\n",
       "    </tr>\n",
       "  </tbody>\n",
       "</table>\n",
       "</div>"
      ],
      "text/plain": [
       "                                                               name  \\\n",
       "https://wandb.ai/hyena/7b-context-extension/run...      n32-log-32K   \n",
       "https://wandb.ai/hyena/7b-context-extension/run...   n32-linear-32K   \n",
       "https://wandb.ai/hyena/7b-context-extension/run...     n32-evo1-32K   \n",
       "https://wandb.ai/hyena/7b-context-extension/run...       n32-5x-32K   \n",
       "https://wandb.ai/hyena/7b-context-extension/run...     n32-evo1-64K   \n",
       "https://wandb.ai/hyena/7b-context-extension/run...   n32-linear-64K   \n",
       "https://wandb.ai/hyena/7b-context-extension/run...     n32-evo1-64K   \n",
       "https://wandb.ai/hyena/7b-context-extension/run...   n32-linear-64K   \n",
       "https://wandb.ai/hyena/7b-context-extension/run...    n32-evo1-128K   \n",
       "https://wandb.ai/hyena/7b-context-extension/run...  n32-linear-128K   \n",
       "\n",
       "                                                                  start  \\\n",
       "https://wandb.ai/hyena/7b-context-extension/run...  2024-11-09 19:43:51   \n",
       "https://wandb.ai/hyena/7b-context-extension/run...  2024-11-10 01:09:15   \n",
       "https://wandb.ai/hyena/7b-context-extension/run...  2024-11-10 02:28:37   \n",
       "https://wandb.ai/hyena/7b-context-extension/run...  2024-11-10 07:48:39   \n",
       "https://wandb.ai/hyena/7b-context-extension/run...  2024-11-10 20:11:02   \n",
       "https://wandb.ai/hyena/7b-context-extension/run...  2024-11-11 00:19:40   \n",
       "https://wandb.ai/hyena/7b-context-extension/run...  2024-11-11 04:04:08   \n",
       "https://wandb.ai/hyena/7b-context-extension/run...  2024-11-11 04:22:47   \n",
       "https://wandb.ai/hyena/7b-context-extension/run...  2024-11-11 10:02:00   \n",
       "https://wandb.ai/hyena/7b-context-extension/run...  2024-11-11 11:58:00   \n",
       "\n",
       "                                                                    end  \\\n",
       "https://wandb.ai/hyena/7b-context-extension/run...  2024-11-10 02:58:02   \n",
       "https://wandb.ai/hyena/7b-context-extension/run...  2024-11-10 08:22:07   \n",
       "https://wandb.ai/hyena/7b-context-extension/run...  2024-11-10 09:41:01   \n",
       "https://wandb.ai/hyena/7b-context-extension/run...  2024-11-10 15:03:32   \n",
       "https://wandb.ai/hyena/7b-context-extension/run...  2024-11-11 03:58:47   \n",
       "https://wandb.ai/hyena/7b-context-extension/run...  2024-11-11 04:16:31   \n",
       "https://wandb.ai/hyena/7b-context-extension/run...  2024-11-11 09:00:12   \n",
       "https://wandb.ai/hyena/7b-context-extension/run...  2024-11-11 11:34:58   \n",
       "https://wandb.ai/hyena/7b-context-extension/run...  2024-11-11 19:53:40   \n",
       "https://wandb.ai/hyena/7b-context-extension/run...  2024-11-11 21:48:39   \n",
       "\n",
       "                                                    duration start_step  \\\n",
       "https://wandb.ai/hyena/7b-context-extension/run...  7.236389        500   \n",
       "https://wandb.ai/hyena/7b-context-extension/run...  7.214444        500   \n",
       "https://wandb.ai/hyena/7b-context-extension/run...  7.206667        500   \n",
       "https://wandb.ai/hyena/7b-context-extension/run...  7.248056        500   \n",
       "https://wandb.ai/hyena/7b-context-extension/run...  7.795833        500   \n",
       "https://wandb.ai/hyena/7b-context-extension/run...    3.9475        500   \n",
       "https://wandb.ai/hyena/7b-context-extension/run...  4.934444       6500   \n",
       "https://wandb.ai/hyena/7b-context-extension/run...  7.203056       3500   \n",
       "https://wandb.ai/hyena/7b-context-extension/run...  9.861111        500   \n",
       "https://wandb.ai/hyena/7b-context-extension/run...  9.844167        500   \n",
       "\n",
       "                                                   end_step avg_throughput  \\\n",
       "https://wandb.ai/hyena/7b-context-extension/run...    12500    8163.327501   \n",
       "https://wandb.ai/hyena/7b-context-extension/run...    12500    8189.138074   \n",
       "https://wandb.ai/hyena/7b-context-extension/run...    12500    8191.127076   \n",
       "https://wandb.ai/hyena/7b-context-extension/run...    12500    8145.051921   \n",
       "https://wandb.ai/hyena/7b-context-extension/run...     6000    3577.467166   \n",
       "https://wandb.ai/hyena/7b-context-extension/run...     3000    3807.921742   \n",
       "https://wandb.ai/hyena/7b-context-extension/run...    12500    6166.987769   \n",
       "https://wandb.ai/hyena/7b-context-extension/run...    12500    6158.642207   \n",
       "https://wandb.ai/hyena/7b-context-extension/run...    12500    5918.955686   \n",
       "https://wandb.ai/hyena/7b-context-extension/run...    12500    5918.060842   \n",
       "\n",
       "                                                   avg_iteration_time  \\\n",
       "https://wandb.ai/hyena/7b-context-extension/run...           2.007026   \n",
       "https://wandb.ai/hyena/7b-context-extension/run...           2.000701   \n",
       "https://wandb.ai/hyena/7b-context-extension/run...           2.000215   \n",
       "https://wandb.ai/hyena/7b-context-extension/run...           2.011529   \n",
       "https://wandb.ai/hyena/7b-context-extension/run...           4.584136   \n",
       "https://wandb.ai/hyena/7b-context-extension/run...           4.307533   \n",
       "https://wandb.ai/hyena/7b-context-extension/run...           2.656727   \n",
       "https://wandb.ai/hyena/7b-context-extension/run...           2.660328   \n",
       "https://wandb.ai/hyena/7b-context-extension/run...           2.768057   \n",
       "https://wandb.ai/hyena/7b-context-extension/run...           2.768477   \n",
       "\n",
       "                                                   start_train_loss  \\\n",
       "https://wandb.ai/hyena/7b-context-extension/run...         1.042655   \n",
       "https://wandb.ai/hyena/7b-context-extension/run...         1.042226   \n",
       "https://wandb.ai/hyena/7b-context-extension/run...          1.03195   \n",
       "https://wandb.ai/hyena/7b-context-extension/run...          1.04202   \n",
       "https://wandb.ai/hyena/7b-context-extension/run...         1.027063   \n",
       "https://wandb.ai/hyena/7b-context-extension/run...         1.026377   \n",
       "https://wandb.ai/hyena/7b-context-extension/run...         1.027116   \n",
       "https://wandb.ai/hyena/7b-context-extension/run...         1.026265   \n",
       "https://wandb.ai/hyena/7b-context-extension/run...         1.014796   \n",
       "https://wandb.ai/hyena/7b-context-extension/run...         1.015827   \n",
       "\n",
       "                                                   end_train_loss  \\\n",
       "https://wandb.ai/hyena/7b-context-extension/run...       0.995088   \n",
       "https://wandb.ai/hyena/7b-context-extension/run...       0.995069   \n",
       "https://wandb.ai/hyena/7b-context-extension/run...       0.994168   \n",
       "https://wandb.ai/hyena/7b-context-extension/run...       0.995099   \n",
       "https://wandb.ai/hyena/7b-context-extension/run...        1.03318   \n",
       "https://wandb.ai/hyena/7b-context-extension/run...       1.039707   \n",
       "https://wandb.ai/hyena/7b-context-extension/run...       1.016252   \n",
       "https://wandb.ai/hyena/7b-context-extension/run...       1.016054   \n",
       "https://wandb.ai/hyena/7b-context-extension/run...       1.038908   \n",
       "https://wandb.ai/hyena/7b-context-extension/run...       1.039378   \n",
       "\n",
       "                                                   start_val_loss end_val_loss  \n",
       "https://wandb.ai/hyena/7b-context-extension/run...       1.038076     1.024392  \n",
       "https://wandb.ai/hyena/7b-context-extension/run...       1.037648     1.024372  \n",
       "https://wandb.ai/hyena/7b-context-extension/run...       1.026375     1.023378  \n",
       "https://wandb.ai/hyena/7b-context-extension/run...        1.03741      1.02435  \n",
       "https://wandb.ai/hyena/7b-context-extension/run...       1.023338     1.022352  \n",
       "https://wandb.ai/hyena/7b-context-extension/run...       1.022771     1.024099  \n",
       "https://wandb.ai/hyena/7b-context-extension/run...       1.025745      1.01657  \n",
       "https://wandb.ai/hyena/7b-context-extension/run...       1.021845     1.016373  \n",
       "https://wandb.ai/hyena/7b-context-extension/run...       1.023778     1.010906  \n",
       "https://wandb.ai/hyena/7b-context-extension/run...       1.024592     1.011912  "
      ]
     },
     "execution_count": 12,
     "metadata": {},
     "output_type": "execute_result"
    }
   ],
   "source": [
    "summary_df"
   ]
  },
  {
   "cell_type": "code",
   "execution_count": null,
   "metadata": {},
   "outputs": [],
   "source": [
    "if not args.output_dir.exists():\n",
    "    args.output_dir.mkdir(parents=True, exist_ok=True)\n",
    "\n",
    "timestamp = datetime.now().strftime(\"%Y-%m-%d_%H\")\n",
    "full_df_path = args.output_dir / f\"{timestamp}-{args.run}_full.csv\"\n",
    "summary_df_path = args.output_dir / f\"{timestamp}-{args.run}_summary.csv\"\n",
    "\n",
    "print(f\"Saving full data to {full_df_path}\")\n",
    "df.to_csv(full_df_path)\n",
    "print(f\"Saving summary data to {summary_df_path}\")\n",
    "summary_df.to_csv(summary_df_path)\n",
    "\n",
    "pd.options.display.max_columns = None\n",
    "pd.options.display.max_colwidth = None\n",
    "\n",
    "print(summary_df)"
   ]
  },
  {
   "cell_type": "code",
   "execution_count": 6,
   "metadata": {},
   "outputs": [],
   "source": [
    "df_128K = df.iloc[-1]"
   ]
  },
  {
   "cell_type": "code",
   "execution_count": 7,
   "metadata": {},
   "outputs": [
    {
     "data": {
      "text/plain": [
       "start                                      2024-11-24 05:07:15\n",
       "end                                        2024-11-24 20:40:25\n",
       "name                               n32-v3-hybrid-log_evo1-128K\n",
       "rawconfig    {'_wandb': {'m': [], 't': {'1': [1, 5, 6, 11, ...\n",
       "metadata     {'os': 'Linux-5.15.0-1055-aws-x86_64-with-glib...\n",
       "history            _step  data/tokens_per_second_per_gpu  r...\n",
       "summary      {'_wandb': {'runtime': 55990}, '_runtime': 559...\n",
       "Name: https://wandb.ai/hyena/7b-context-extension/runs/20241124050715, dtype: object"
      ]
     },
     "execution_count": 7,
     "metadata": {},
     "output_type": "execute_result"
    }
   ],
   "source": [
    "df_128K"
   ]
  },
  {
   "cell_type": "code",
   "execution_count": 8,
   "metadata": {},
   "outputs": [],
   "source": [
    "history_128K = df_128K[\"history\"]"
   ]
  },
  {
   "cell_type": "code",
   "execution_count": 9,
   "metadata": {},
   "outputs": [
    {
     "data": {
      "text/html": [
       "<div>\n",
       "<style scoped>\n",
       "    .dataframe tbody tr th:only-of-type {\n",
       "        vertical-align: middle;\n",
       "    }\n",
       "\n",
       "    .dataframe tbody tr th {\n",
       "        vertical-align: top;\n",
       "    }\n",
       "\n",
       "    .dataframe thead th {\n",
       "        text-align: right;\n",
       "    }\n",
       "</style>\n",
       "<table border=\"1\" class=\"dataframe\">\n",
       "  <thead>\n",
       "    <tr style=\"text-align: right;\">\n",
       "      <th></th>\n",
       "      <th>_step</th>\n",
       "      <th>data/tokens_per_second_per_gpu</th>\n",
       "      <th>runtime/iteration_time</th>\n",
       "      <th>train/lm_loss</th>\n",
       "    </tr>\n",
       "  </thead>\n",
       "  <tbody>\n",
       "    <tr>\n",
       "      <th>0</th>\n",
       "      <td>5</td>\n",
       "      <td>1877.400116</td>\n",
       "      <td>8.726962</td>\n",
       "      <td>0.931894</td>\n",
       "    </tr>\n",
       "    <tr>\n",
       "      <th>1</th>\n",
       "      <td>10</td>\n",
       "      <td>3737.376427</td>\n",
       "      <td>4.383824</td>\n",
       "      <td>1.024124</td>\n",
       "    </tr>\n",
       "    <tr>\n",
       "      <th>2</th>\n",
       "      <td>15</td>\n",
       "      <td>3738.612215</td>\n",
       "      <td>4.382375</td>\n",
       "      <td>0.973709</td>\n",
       "    </tr>\n",
       "    <tr>\n",
       "      <th>3</th>\n",
       "      <td>20</td>\n",
       "      <td>3738.708708</td>\n",
       "      <td>4.382262</td>\n",
       "      <td>1.024886</td>\n",
       "    </tr>\n",
       "    <tr>\n",
       "      <th>4</th>\n",
       "      <td>25</td>\n",
       "      <td>3729.837596</td>\n",
       "      <td>4.392685</td>\n",
       "      <td>1.029782</td>\n",
       "    </tr>\n",
       "    <tr>\n",
       "      <th>...</th>\n",
       "      <td>...</td>\n",
       "      <td>...</td>\n",
       "      <td>...</td>\n",
       "      <td>...</td>\n",
       "    </tr>\n",
       "    <tr>\n",
       "      <th>2495</th>\n",
       "      <td>12480</td>\n",
       "      <td>3738.737592</td>\n",
       "      <td>4.382228</td>\n",
       "      <td>0.974513</td>\n",
       "    </tr>\n",
       "    <tr>\n",
       "      <th>2496</th>\n",
       "      <td>12485</td>\n",
       "      <td>3732.632493</td>\n",
       "      <td>4.389395</td>\n",
       "      <td>0.988693</td>\n",
       "    </tr>\n",
       "    <tr>\n",
       "      <th>2497</th>\n",
       "      <td>12490</td>\n",
       "      <td>3734.175860</td>\n",
       "      <td>4.387581</td>\n",
       "      <td>0.990305</td>\n",
       "    </tr>\n",
       "    <tr>\n",
       "      <th>2498</th>\n",
       "      <td>12495</td>\n",
       "      <td>3735.016434</td>\n",
       "      <td>4.386594</td>\n",
       "      <td>1.012745</td>\n",
       "    </tr>\n",
       "    <tr>\n",
       "      <th>2499</th>\n",
       "      <td>12500</td>\n",
       "      <td>3735.272683</td>\n",
       "      <td>4.386293</td>\n",
       "      <td>1.035061</td>\n",
       "    </tr>\n",
       "  </tbody>\n",
       "</table>\n",
       "<p>2500 rows × 4 columns</p>\n",
       "</div>"
      ],
      "text/plain": [
       "      _step  data/tokens_per_second_per_gpu  runtime/iteration_time  \\\n",
       "0         5                     1877.400116                8.726962   \n",
       "1        10                     3737.376427                4.383824   \n",
       "2        15                     3738.612215                4.382375   \n",
       "3        20                     3738.708708                4.382262   \n",
       "4        25                     3729.837596                4.392685   \n",
       "...     ...                             ...                     ...   \n",
       "2495  12480                     3738.737592                4.382228   \n",
       "2496  12485                     3732.632493                4.389395   \n",
       "2497  12490                     3734.175860                4.387581   \n",
       "2498  12495                     3735.016434                4.386594   \n",
       "2499  12500                     3735.272683                4.386293   \n",
       "\n",
       "      train/lm_loss  \n",
       "0          0.931894  \n",
       "1          1.024124  \n",
       "2          0.973709  \n",
       "3          1.024886  \n",
       "4          1.029782  \n",
       "...             ...  \n",
       "2495       0.974513  \n",
       "2496       0.988693  \n",
       "2497       0.990305  \n",
       "2498       1.012745  \n",
       "2499       1.035061  \n",
       "\n",
       "[2500 rows x 4 columns]"
      ]
     },
     "execution_count": 9,
     "metadata": {},
     "output_type": "execute_result"
    }
   ],
   "source": [
    "history_128K"
   ]
  },
  {
   "cell_type": "code",
   "execution_count": null,
   "metadata": {},
   "outputs": [],
   "source": []
  }
 ],
 "metadata": {
  "kernelspec": {
   "display_name": "Python 3",
   "language": "python",
   "name": "python3"
  },
  "language_info": {
   "codemirror_mode": {
    "name": "ipython",
    "version": 3
   },
   "file_extension": ".py",
   "mimetype": "text/x-python",
   "name": "python",
   "nbconvert_exporter": "python",
   "pygments_lexer": "ipython3",
   "version": "3.9.19"
  }
 },
 "nbformat": 4,
 "nbformat_minor": 2
}
